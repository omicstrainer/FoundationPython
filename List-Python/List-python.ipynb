{
 "cells": [
  {
   "cell_type": "code",
   "execution_count": 1,
   "metadata": {},
   "outputs": [],
   "source": [
    "vertebrates = [\"Human\",\"Mouse\",\"Cow\",\"Chichen\",\"Fugu\",\"Zebrafish\",\"Xenopus\",\"Lion\",\"Eel\"]"
   ]
  },
  {
   "cell_type": "code",
   "execution_count": 2,
   "metadata": {},
   "outputs": [
    {
     "data": {
      "text/plain": [
       "['Human',\n",
       " 'Mouse',\n",
       " 'Cow',\n",
       " 'Chichen',\n",
       " 'Fugu',\n",
       " 'Zebrafish',\n",
       " 'Xenopus',\n",
       " 'Lion',\n",
       " 'Eel']"
      ]
     },
     "execution_count": 2,
     "metadata": {},
     "output_type": "execute_result"
    }
   ],
   "source": [
    "vertebrates"
   ]
  },
  {
   "cell_type": "code",
   "execution_count": 3,
   "metadata": {},
   "outputs": [
    {
     "data": {
      "text/plain": [
       "'Human'"
      ]
     },
     "execution_count": 3,
     "metadata": {},
     "output_type": "execute_result"
    }
   ],
   "source": [
    "vertebrates[0]"
   ]
  },
  {
   "cell_type": "code",
   "execution_count": 4,
   "metadata": {},
   "outputs": [
    {
     "data": {
      "text/plain": [
       "'Eel'"
      ]
     },
     "execution_count": 4,
     "metadata": {},
     "output_type": "execute_result"
    }
   ],
   "source": [
    "vertebrates[-1]"
   ]
  },
  {
   "cell_type": "markdown",
   "metadata": {},
   "source": [
    " -9 'Human', 0\n",
    " 'Mouse', 1\n",
    " 'Cow',   2\n",
    " 'Chichen', 3\n",
    " 'Fugu',  4\n",
    " 'Zebrafish',   5\n",
    " 'Xenopus',   6\n",
    " 'Lion', 7\n",
    "-1 'Eel' 8 "
   ]
  },
  {
   "cell_type": "code",
   "execution_count": 5,
   "metadata": {},
   "outputs": [],
   "source": [
    "##Let create a list - vertebrates\n",
    "vertebrates = [\"Human\",\"Mouse\",\"Cow\",\"Chichen\",\"Fugu\",\"Zebrafish\",\"Xenopus\",\"Lion\",\"Eel\"]"
   ]
  },
  {
   "cell_type": "code",
   "execution_count": 6,
   "metadata": {},
   "outputs": [
    {
     "name": "stdout",
     "output_type": "stream",
     "text": [
      "['Human', 'Mouse', 'Cow', 'Chichen', 'Fugu', 'Zebrafish', 'Xenopus', 'Lion', 'Eel']\n"
     ]
    }
   ],
   "source": [
    "## print this list\n",
    "print(vertebrates)"
   ]
  },
  {
   "cell_type": "code",
   "execution_count": 7,
   "metadata": {},
   "outputs": [
    {
     "name": "stdout",
     "output_type": "stream",
     "text": [
      "1st element of vertebrates:\n",
      "Human\n"
     ]
    }
   ],
   "source": [
    "## print 1st element of vertebrates\n",
    "print (\"1st element of vertebrates:\")\n",
    "print(vertebrates[0])"
   ]
  },
  {
   "cell_type": "code",
   "execution_count": 9,
   "metadata": {},
   "outputs": [
    {
     "name": "stdout",
     "output_type": "stream",
     "text": [
      "2nd element of vertebrates:\n",
      "Mouse\n"
     ]
    }
   ],
   "source": [
    "## print 2nd element of vertebrates\n",
    "print (\"2nd element of vertebrates:\")\n",
    "print(vertebrates[1])"
   ]
  },
  {
   "cell_type": "code",
   "execution_count": 10,
   "metadata": {},
   "outputs": [
    {
     "name": "stdout",
     "output_type": "stream",
     "text": [
      "3rd element of vertebrates:\n",
      "Cow\n"
     ]
    }
   ],
   "source": [
    "## print 3rd element of vertebrates\n",
    "print (\"3rd element of vertebrates:\")\n",
    "print(vertebrates[2])"
   ]
  },
  {
   "cell_type": "code",
   "execution_count": 11,
   "metadata": {},
   "outputs": [
    {
     "name": "stdout",
     "output_type": "stream",
     "text": [
      "4th element of vertebrates:\n",
      "Chichen\n"
     ]
    }
   ],
   "source": [
    "## print 4th element of vertebrates\n",
    "print (\"4th element of vertebrates:\")\n",
    "print(vertebrates[3])"
   ]
  },
  {
   "cell_type": "code",
   "execution_count": 12,
   "metadata": {},
   "outputs": [
    {
     "name": "stdout",
     "output_type": "stream",
     "text": [
      "5th element of vertebrates:\n",
      "Fugu\n"
     ]
    }
   ],
   "source": [
    "## print 5th element of vertebrates\n",
    "print (\"5th element of vertebrates:\")\n",
    "print(vertebrates[4])"
   ]
  },
  {
   "cell_type": "code",
   "execution_count": 13,
   "metadata": {},
   "outputs": [
    {
     "name": "stdout",
     "output_type": "stream",
     "text": [
      "5th element of vertebrates:\n",
      "Fugu\n"
     ]
    }
   ],
   "source": [
    "## print 5th element of vertebrates\n",
    "print (\"5th element of vertebrates:\")\n",
    "print(vertebrates[4])"
   ]
  },
  {
   "cell_type": "code",
   "execution_count": 14,
   "metadata": {},
   "outputs": [
    {
     "name": "stdout",
     "output_type": "stream",
     "text": [
      "6th element of vertebrates:\n",
      "Zebrafish\n"
     ]
    }
   ],
   "source": [
    "## print 6th element of vertebrates\n",
    "print (\"6th element of vertebrates:\")\n",
    "print(vertebrates[5])"
   ]
  },
  {
   "cell_type": "code",
   "execution_count": 15,
   "metadata": {},
   "outputs": [
    {
     "name": "stdout",
     "output_type": "stream",
     "text": [
      "7th element of vertebrates:\n",
      "Xenopus\n"
     ]
    }
   ],
   "source": [
    "## print 7th element of vertebrates\n",
    "print (\"7th element of vertebrates:\")\n",
    "print(vertebrates[6])"
   ]
  },
  {
   "cell_type": "code",
   "execution_count": 16,
   "metadata": {},
   "outputs": [
    {
     "name": "stdout",
     "output_type": "stream",
     "text": [
      "8th element of vertebrates:\n",
      "Lion\n"
     ]
    }
   ],
   "source": [
    "## print 8th element of vertebrates\n",
    "print (\"8th element of vertebrates:\")\n",
    "print(vertebrates[7])"
   ]
  },
  {
   "cell_type": "code",
   "execution_count": 17,
   "metadata": {},
   "outputs": [
    {
     "name": "stdout",
     "output_type": "stream",
     "text": [
      "8th element of vertebrates:\n",
      "Lion\n"
     ]
    }
   ],
   "source": [
    "## print 8th element of vertebrates\n",
    "print (\"8th element of vertebrates:\")\n",
    "print(vertebrates[7])"
   ]
  },
  {
   "cell_type": "code",
   "execution_count": 18,
   "metadata": {},
   "outputs": [
    {
     "name": "stdout",
     "output_type": "stream",
     "text": [
      "9th element of vertebrates:\n",
      "Eel\n"
     ]
    }
   ],
   "source": [
    "## print 9th element of vertebrates\n",
    "print (\"9th element of vertebrates:\")\n",
    "print(vertebrates[8])"
   ]
  },
  {
   "cell_type": "code",
   "execution_count": 19,
   "metadata": {},
   "outputs": [
    {
     "name": "stdout",
     "output_type": "stream",
     "text": [
      "-1 element of vertebrates:\n",
      "Eel\n"
     ]
    }
   ],
   "source": [
    "## print -1 element of vertebrates\n",
    "print (\"-1 element of vertebrates:\")\n",
    "print(vertebrates[-1])"
   ]
  },
  {
   "cell_type": "code",
   "execution_count": 20,
   "metadata": {},
   "outputs": [
    {
     "name": "stdout",
     "output_type": "stream",
     "text": [
      "-5 element of vertebrates:\n",
      "Fugu\n"
     ]
    }
   ],
   "source": [
    "## print -5 element of vertebrates\n",
    "print (\"-5 element of vertebrates:\")\n",
    "print(vertebrates[-5])"
   ]
  },
  {
   "cell_type": "code",
   "execution_count": 21,
   "metadata": {},
   "outputs": [
    {
     "name": "stdout",
     "output_type": "stream",
     "text": [
      "-7 element of vertebrates:\n",
      "Cow\n"
     ]
    }
   ],
   "source": [
    "## print -7 element of vertebrates\n",
    "print (\"-7 element of vertebrates:\")\n",
    "print(vertebrates[-7])"
   ]
  },
  {
   "cell_type": "code",
   "execution_count": 22,
   "metadata": {},
   "outputs": [
    {
     "name": "stdout",
     "output_type": "stream",
     "text": [
      "last element of vertebrates:\n",
      "Human\n"
     ]
    }
   ],
   "source": [
    "## print -9 element of vertebrates\n",
    "print (\"last element of vertebrates:\")\n",
    "print(vertebrates[-9])"
   ]
  },
  {
   "cell_type": "code",
   "execution_count": 23,
   "metadata": {},
   "outputs": [],
   "source": [
    "##Let create a list - insects\n",
    "Insects = [\"Drosophila\",\"Mosquito\",\"CPB\",\"Ant\"]"
   ]
  },
  {
   "cell_type": "code",
   "execution_count": 25,
   "metadata": {},
   "outputs": [
    {
     "name": "stdout",
     "output_type": "stream",
     "text": [
      "Human Mosquito\n"
     ]
    }
   ],
   "source": [
    "print(vertebrates[-9], Insects[1])"
   ]
  },
  {
   "cell_type": "code",
   "execution_count": 26,
   "metadata": {},
   "outputs": [],
   "source": [
    "Animals= vertebrates+Insects"
   ]
  },
  {
   "cell_type": "code",
   "execution_count": 27,
   "metadata": {},
   "outputs": [
    {
     "data": {
      "text/plain": [
       "['Human',\n",
       " 'Mouse',\n",
       " 'Cow',\n",
       " 'Chichen',\n",
       " 'Fugu',\n",
       " 'Zebrafish',\n",
       " 'Xenopus',\n",
       " 'Lion',\n",
       " 'Eel',\n",
       " 'Drosophila',\n",
       " 'Mosquito',\n",
       " 'CPB',\n",
       " 'Ant']"
      ]
     },
     "execution_count": 27,
     "metadata": {},
     "output_type": "execute_result"
    }
   ],
   "source": [
    "Animals"
   ]
  },
  {
   "cell_type": "code",
   "execution_count": 28,
   "metadata": {},
   "outputs": [
    {
     "data": {
      "text/plain": [
       "9"
      ]
     },
     "execution_count": 28,
     "metadata": {},
     "output_type": "execute_result"
    }
   ],
   "source": [
    "len(vertebrates)"
   ]
  },
  {
   "cell_type": "code",
   "execution_count": 29,
   "metadata": {},
   "outputs": [
    {
     "data": {
      "text/plain": [
       "4"
      ]
     },
     "execution_count": 29,
     "metadata": {},
     "output_type": "execute_result"
    }
   ],
   "source": [
    "len(Insects)"
   ]
  },
  {
   "cell_type": "code",
   "execution_count": null,
   "metadata": {},
   "outputs": [],
   "source": []
  },
  {
   "cell_type": "code",
   "execution_count": 30,
   "metadata": {},
   "outputs": [
    {
     "data": {
      "text/plain": [
       "13"
      ]
     },
     "execution_count": 30,
     "metadata": {},
     "output_type": "execute_result"
    }
   ],
   "source": [
    "len(Animals)"
   ]
  },
  {
   "cell_type": "code",
   "execution_count": 31,
   "metadata": {},
   "outputs": [
    {
     "data": {
      "text/plain": [
       "['Human',\n",
       " 'Mouse',\n",
       " 'Cow',\n",
       " 'Chichen',\n",
       " 'Fugu',\n",
       " 'Zebrafish',\n",
       " 'Xenopus',\n",
       " 'Lion',\n",
       " 'Eel',\n",
       " 'Drosophila']"
      ]
     },
     "execution_count": 31,
     "metadata": {},
     "output_type": "execute_result"
    }
   ],
   "source": [
    "Animals[:10]"
   ]
  },
  {
   "cell_type": "code",
   "execution_count": 32,
   "metadata": {},
   "outputs": [
    {
     "data": {
      "text/plain": [
       "['Human',\n",
       " 'Mouse',\n",
       " 'Cow',\n",
       " 'Chichen',\n",
       " 'Fugu',\n",
       " 'Zebrafish',\n",
       " 'Xenopus',\n",
       " 'Lion',\n",
       " 'Eel',\n",
       " 'Drosophila']"
      ]
     },
     "execution_count": 32,
     "metadata": {},
     "output_type": "execute_result"
    }
   ],
   "source": [
    "Animals[0:10]"
   ]
  },
  {
   "cell_type": "code",
   "execution_count": 33,
   "metadata": {},
   "outputs": [
    {
     "data": {
      "text/plain": [
       "['Human',\n",
       " 'Mouse',\n",
       " 'Cow',\n",
       " 'Chichen',\n",
       " 'Fugu',\n",
       " 'Zebrafish',\n",
       " 'Xenopus',\n",
       " 'Lion',\n",
       " 'Eel',\n",
       " 'Drosophila',\n",
       " 'Mosquito',\n",
       " 'CPB']"
      ]
     },
     "execution_count": 33,
     "metadata": {},
     "output_type": "execute_result"
    }
   ],
   "source": [
    "Animals[0:-1]"
   ]
  },
  {
   "cell_type": "code",
   "execution_count": 34,
   "metadata": {},
   "outputs": [],
   "source": [
    "Animals.sort()"
   ]
  },
  {
   "cell_type": "code",
   "execution_count": 36,
   "metadata": {},
   "outputs": [
    {
     "data": {
      "text/plain": [
       "['Ant',\n",
       " 'CPB',\n",
       " 'Chichen',\n",
       " 'Cow',\n",
       " 'Drosophila',\n",
       " 'Eel',\n",
       " 'Fugu',\n",
       " 'Human',\n",
       " 'Lion',\n",
       " 'Mosquito',\n",
       " 'Mouse',\n",
       " 'Xenopus',\n",
       " 'Zebrafish']"
      ]
     },
     "execution_count": 36,
     "metadata": {},
     "output_type": "execute_result"
    }
   ],
   "source": [
    "Animals"
   ]
  },
  {
   "cell_type": "code",
   "execution_count": 37,
   "metadata": {},
   "outputs": [],
   "source": [
    "Animals.insert(1, \"Lion\")"
   ]
  },
  {
   "cell_type": "code",
   "execution_count": 38,
   "metadata": {},
   "outputs": [
    {
     "data": {
      "text/plain": [
       "['Ant',\n",
       " 'Lion',\n",
       " 'CPB',\n",
       " 'Chichen',\n",
       " 'Cow',\n",
       " 'Drosophila',\n",
       " 'Eel',\n",
       " 'Fugu',\n",
       " 'Human',\n",
       " 'Lion',\n",
       " 'Mosquito',\n",
       " 'Mouse',\n",
       " 'Xenopus',\n",
       " 'Zebrafish']"
      ]
     },
     "execution_count": 38,
     "metadata": {},
     "output_type": "execute_result"
    }
   ],
   "source": [
    "Animals"
   ]
  },
  {
   "cell_type": "code",
   "execution_count": 39,
   "metadata": {},
   "outputs": [],
   "source": [
    "Animals.insert(-13, \"Tiger\")"
   ]
  },
  {
   "cell_type": "code",
   "execution_count": 40,
   "metadata": {},
   "outputs": [
    {
     "data": {
      "text/plain": [
       "['Ant',\n",
       " 'Tiger',\n",
       " 'Lion',\n",
       " 'CPB',\n",
       " 'Chichen',\n",
       " 'Cow',\n",
       " 'Drosophila',\n",
       " 'Eel',\n",
       " 'Fugu',\n",
       " 'Human',\n",
       " 'Lion',\n",
       " 'Mosquito',\n",
       " 'Mouse',\n",
       " 'Xenopus',\n",
       " 'Zebrafish']"
      ]
     },
     "execution_count": 40,
     "metadata": {},
     "output_type": "execute_result"
    }
   ],
   "source": [
    "Animals"
   ]
  },
  {
   "cell_type": "code",
   "execution_count": 41,
   "metadata": {},
   "outputs": [],
   "source": [
    "wild=Animals"
   ]
  },
  {
   "cell_type": "code",
   "execution_count": 42,
   "metadata": {},
   "outputs": [
    {
     "data": {
      "text/plain": [
       "['Ant',\n",
       " 'Tiger',\n",
       " 'Lion',\n",
       " 'CPB',\n",
       " 'Chichen',\n",
       " 'Cow',\n",
       " 'Drosophila',\n",
       " 'Eel',\n",
       " 'Fugu',\n",
       " 'Human',\n",
       " 'Lion',\n",
       " 'Mosquito',\n",
       " 'Mouse',\n",
       " 'Xenopus',\n",
       " 'Zebrafish']"
      ]
     },
     "execution_count": 42,
     "metadata": {},
     "output_type": "execute_result"
    }
   ],
   "source": [
    "wild"
   ]
  },
  {
   "cell_type": "code",
   "execution_count": 43,
   "metadata": {},
   "outputs": [
    {
     "data": {
      "text/plain": [
       "'Zebrafish'"
      ]
     },
     "execution_count": 43,
     "metadata": {},
     "output_type": "execute_result"
    }
   ],
   "source": [
    "Animals.pop()"
   ]
  },
  {
   "cell_type": "code",
   "execution_count": 44,
   "metadata": {},
   "outputs": [
    {
     "data": {
      "text/plain": [
       "'Xenopus'"
      ]
     },
     "execution_count": 44,
     "metadata": {},
     "output_type": "execute_result"
    }
   ],
   "source": [
    "Animals.pop()"
   ]
  },
  {
   "cell_type": "code",
   "execution_count": 45,
   "metadata": {},
   "outputs": [
    {
     "data": {
      "text/plain": [
       "'Mouse'"
      ]
     },
     "execution_count": 45,
     "metadata": {},
     "output_type": "execute_result"
    }
   ],
   "source": [
    "Animals.pop()"
   ]
  },
  {
   "cell_type": "code",
   "execution_count": 57,
   "metadata": {},
   "outputs": [
    {
     "data": {
      "text/plain": [
       "['Ant',\n",
       " 'Tiger',\n",
       " 'Lion',\n",
       " 'Chichen',\n",
       " 'Cow',\n",
       " 'Drosophila',\n",
       " 'Eel',\n",
       " 'Fugu',\n",
       " 'Human',\n",
       " 'Lion',\n",
       " 'Mosquito',\n",
       " 'M',\n",
       " 'o',\n",
       " 's',\n",
       " 'q',\n",
       " 'u',\n",
       " 'i',\n",
       " 't',\n",
       " 'o',\n",
       " 'o']"
      ]
     },
     "execution_count": 57,
     "metadata": {},
     "output_type": "execute_result"
    }
   ],
   "source": [
    "Animals"
   ]
  },
  {
   "cell_type": "code",
   "execution_count": 47,
   "metadata": {},
   "outputs": [],
   "source": [
    "Animals.remove(\"CPB\")"
   ]
  },
  {
   "cell_type": "code",
   "execution_count": 56,
   "metadata": {},
   "outputs": [
    {
     "data": {
      "text/plain": [
       "['Ant',\n",
       " 'Tiger',\n",
       " 'Lion',\n",
       " 'Chichen',\n",
       " 'Cow',\n",
       " 'Drosophila',\n",
       " 'Eel',\n",
       " 'Fugu',\n",
       " 'Human',\n",
       " 'Lion',\n",
       " 'Mosquito',\n",
       " 'M',\n",
       " 'o',\n",
       " 's',\n",
       " 'q',\n",
       " 'u',\n",
       " 'i',\n",
       " 't',\n",
       " 'o',\n",
       " 'o']"
      ]
     },
     "execution_count": 56,
     "metadata": {},
     "output_type": "execute_result"
    }
   ],
   "source": [
    "Animals"
   ]
  },
  {
   "cell_type": "code",
   "execution_count": 52,
   "metadata": {},
   "outputs": [],
   "source": [
    "Animals.extend([Animals[-1]])"
   ]
  },
  {
   "cell_type": "code",
   "execution_count": 54,
   "metadata": {},
   "outputs": [
    {
     "data": {
      "text/plain": [
       "['Ant',\n",
       " 'Tiger',\n",
       " 'Lion',\n",
       " 'Chichen',\n",
       " 'Cow',\n",
       " 'Drosophila',\n",
       " 'Eel',\n",
       " 'Fugu',\n",
       " 'Human',\n",
       " 'Lion',\n",
       " 'Mosquito',\n",
       " 'M',\n",
       " 'o',\n",
       " 's',\n",
       " 'q',\n",
       " 'u',\n",
       " 'i',\n",
       " 't',\n",
       " 'o',\n",
       " 'o']"
      ]
     },
     "execution_count": 54,
     "metadata": {},
     "output_type": "execute_result"
    }
   ],
   "source": [
    "Animals"
   ]
  },
  {
   "cell_type": "code",
   "execution_count": 55,
   "metadata": {},
   "outputs": [
    {
     "data": {
      "text/plain": [
       "20"
      ]
     },
     "execution_count": 55,
     "metadata": {},
     "output_type": "execute_result"
    }
   ],
   "source": [
    "len(Animals)"
   ]
  },
  {
   "cell_type": "code",
   "execution_count": null,
   "metadata": {},
   "outputs": [],
   "source": []
  }
 ],
 "metadata": {
  "kernelspec": {
   "display_name": "Python 3",
   "language": "python",
   "name": "python3"
  },
  "language_info": {
   "codemirror_mode": {
    "name": "ipython",
    "version": 3
   },
   "file_extension": ".py",
   "mimetype": "text/x-python",
   "name": "python",
   "nbconvert_exporter": "python",
   "pygments_lexer": "ipython3",
   "version": "3.8.5"
  }
 },
 "nbformat": 4,
 "nbformat_minor": 4
}
